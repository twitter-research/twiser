{
 "cells": [
  {
   "cell_type": "code",
   "execution_count": 1,
   "id": "a37dd798",
   "metadata": {},
   "outputs": [],
   "source": [
    "import pandas as pd\n",
    "from sklearn.ensemble import RandomForestRegressor\n",
    "from sklearn.linear_model import LinearRegression\n",
    "import numpy as np\n",
    "\n",
    "from twiser import twiser"
   ]
  },
  {
   "cell_type": "code",
   "execution_count": 2,
   "id": "9d0f09b0",
   "metadata": {},
   "outputs": [],
   "source": [
    "fname = \"/Users/rturner/tmp/dataverse_files/Study1Data.csv\""
   ]
  },
  {
   "cell_type": "code",
   "execution_count": 3,
   "id": "2bb59fac",
   "metadata": {},
   "outputs": [],
   "source": [
    "pre_exp_vars = [\"Sex\", \"Party\", \"Ideo\"]\n",
    "sample_var = \"Sample\"\n",
    "treatment_var = \"LoanGroup\"\n",
    "response_var = \"LoanSupp\"\n",
    "\n",
    "control_code = 1\n",
    "treatment_code = 2\n",
    "fb_sample_code = 6"
   ]
  },
  {
   "cell_type": "code",
   "execution_count": 4,
   "id": "797f8112",
   "metadata": {},
   "outputs": [],
   "source": [
    "cols_to_keep = pre_exp_vars + [sample_var, treatment_var, response_var]"
   ]
  },
  {
   "cell_type": "code",
   "execution_count": 5,
   "id": "827bbf2d",
   "metadata": {},
   "outputs": [],
   "source": [
    "df_full = pd.read_csv(fname, header=0, index_col=0, na_values=[\".\", \"-99\", \"?\", \"-1\"], low_memory=False)\n",
    "df_full = df_full[cols_to_keep]\n",
    "df_full = df_full.apply(pd.to_numeric, errors=\"coerce\")\n",
    "df_full[pre_exp_vars] = df_full[pre_exp_vars].fillna(df_full[pre_exp_vars].mean())\n",
    "assert (df_full.dtypes == float).all()"
   ]
  },
  {
   "cell_type": "code",
   "execution_count": 6,
   "id": "72ee535f",
   "metadata": {},
   "outputs": [],
   "source": [
    "df = df_full[df_full[sample_var] == fb_sample_code]\n",
    "assert not (df == -1).any().any()\n",
    "assert not (df == -99).any().any()"
   ]
  },
  {
   "cell_type": "code",
   "execution_count": 7,
   "id": "586d549c",
   "metadata": {},
   "outputs": [
    {
     "name": "stdout",
     "output_type": "stream",
     "text": [
      "basic (0.8048128342245988, (-0.14116367806259345, 1.750789346511791), 0.09541747434590832) 1.8919530245743843 \n",
      "cv (1.3976759834368528, (0.20459932380486157, 2.590752643068844), 0.02167154082472869) 2.3861533192639826 *\n",
      "vr (1.3783350179974512, (0.5080398598051986, 2.2486301761897036), 0.001908559984656016) 1.740590316384505 *\n",
      "in_sample (0.8648606904582837, (0.24239032838839314, 1.4873310525281744), 0.006465777380383715) 1.2449407241397812 *\n"
     ]
    }
   ],
   "source": [
    "predictor = RandomForestRegressor(criterion=\"squared_error\", random_state=0)\n",
    "\n",
    "is_control = df[treatment_var] == control_code\n",
    "is_treatment = df[treatment_var] == treatment_code\n",
    "assert not (is_control & is_treatment).any()\n",
    "\n",
    "x = df.loc[is_treatment, response_var].values\n",
    "y = df.loc[is_control, response_var].values\n",
    "x_covariates = df.loc[is_treatment, pre_exp_vars].values\n",
    "y_covariates = df.loc[is_control, pre_exp_vars].values\n",
    "\n",
    "x_covariates = x_covariates[~np.isnan(x), :]\n",
    "x = x[~np.isnan(x)]\n",
    "\n",
    "y_covariates = y_covariates[~np.isnan(y), :]\n",
    "y = y[~np.isnan(y)]\n",
    "\n",
    "R_basic = twiser.ztest(x, y, alpha=0.05)\n",
    "print(\"basic\", R_basic, R_basic[1][1] - R_basic[1][0], \"*\" if R_basic[2] < .05 else \"\")\n",
    "\n",
    "R_vr = twiser.ztest_cv_train(x, x_covariates, y, y_covariates, alpha=0.05, train_frac=0.3, predictor=predictor, random=np.random.RandomState(123))\n",
    "print(\"cv\", R_vr, R_vr[1][1] - R_vr[1][0], \"*\" if R_vr[2] < .05 else \"\")\n",
    "\n",
    "R_vr = twiser.ztest_stacked_train(x, x_covariates, y, y_covariates, alpha=0.05, k_fold=10, predictor=predictor, random=np.random.RandomState(123))\n",
    "print(\"vr\", R_vr, R_vr[1][1] - R_vr[1][0], \"*\" if R_vr[2] < .05 else \"\")\n",
    "\n",
    "R_vr = twiser.ztest_in_sample_train(x, x_covariates, y, y_covariates, alpha=0.05, predictor=predictor, random=np.random.RandomState(123))\n",
    "print(\"in_sample\", R_vr, R_vr[1][1] - R_vr[1][0], \"*\" if R_vr[2] < .05 else \"\")"
   ]
  },
  {
   "cell_type": "code",
   "execution_count": null,
   "id": "aac4b9de",
   "metadata": {},
   "outputs": [],
   "source": []
  }
 ],
 "metadata": {
  "kernelspec": {
   "display_name": "generic_jn",
   "language": "python",
   "name": "generic_jn"
  },
  "language_info": {
   "codemirror_mode": {
    "name": "ipython",
    "version": 3
   },
   "file_extension": ".py",
   "mimetype": "text/x-python",
   "name": "python",
   "nbconvert_exporter": "python",
   "pygments_lexer": "ipython3",
   "version": "3.7.4"
  }
 },
 "nbformat": 4,
 "nbformat_minor": 5
}
